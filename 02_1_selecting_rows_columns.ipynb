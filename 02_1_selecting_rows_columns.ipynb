{
 "cells": [
  {
   "cell_type": "markdown",
   "id": "d647b897",
   "metadata": {},
   "source": [
    "## Lets understand dictionary"
   ]
  },
  {
   "cell_type": "code",
   "execution_count": 1,
   "id": "5720df88",
   "metadata": {},
   "outputs": [],
   "source": [
    "# Single key-value \n",
    "person = {\n",
    "    \"first\":\"John\",\n",
    "    \"last\":\"Abhrahm\",\n",
    "    \"email\":\"john@gmail.com\"\n",
    "}"
   ]
  },
  {
   "cell_type": "code",
   "execution_count": 2,
   "id": "c5e2fb41",
   "metadata": {},
   "outputs": [],
   "source": [
    "#Dictionary with a single element list\n",
    "person = {\n",
    "    \"first\":[\"John\"],\n",
    "    \"last\":[\"Abhrahm\"],\n",
    "    \"email\":[\"john@gmail.com\"]\n",
    "}"
   ]
  },
  {
   "cell_type": "code",
   "execution_count": 3,
   "id": "c89fb082",
   "metadata": {},
   "outputs": [],
   "source": [
    "#Dictionary with multiple list elements\n",
    "people = {\n",
    "    \"first\":[\"John\", 'Brown', 'Harry'],\n",
    "    \"last\":[\"Abhrahm\", 'Doe', 'Peter'],\n",
    "    \"email\":[\"john@gmail.com\", 'doe@yahho.com', 'harry@redhat.com']\n",
    "}"
   ]
  },
  {
   "cell_type": "code",
   "execution_count": 4,
   "id": "a61e86da",
   "metadata": {},
   "outputs": [
    {
     "data": {
      "text/plain": [
       "['john@gmail.com', 'doe@yahho.com', 'harry@redhat.com']"
      ]
     },
     "execution_count": 4,
     "metadata": {},
     "output_type": "execute_result"
    }
   ],
   "source": [
    "# If we want to access email-column by accessing email-key\n",
    "\n",
    "people['email']"
   ]
  },
  {
   "cell_type": "markdown",
   "id": "5b4123d1",
   "metadata": {},
   "source": [
    "### Lets create a Dataframe for above Dictionary\n",
    "#### Dataframes are similar to dictionay, but much much more than a dictionary\n",
    "#### We can create dataframe from using Pandas for above data available"
   ]
  },
  {
   "cell_type": "code",
   "execution_count": 5,
   "id": "21a52341",
   "metadata": {},
   "outputs": [],
   "source": [
    "import pandas as pd\n",
    "df = pd.DataFrame(people)"
   ]
  },
  {
   "cell_type": "code",
   "execution_count": 6,
   "id": "30fefffc",
   "metadata": {},
   "outputs": [
    {
     "data": {
      "text/html": [
       "<div>\n",
       "<style scoped>\n",
       "    .dataframe tbody tr th:only-of-type {\n",
       "        vertical-align: middle;\n",
       "    }\n",
       "\n",
       "    .dataframe tbody tr th {\n",
       "        vertical-align: top;\n",
       "    }\n",
       "\n",
       "    .dataframe thead th {\n",
       "        text-align: right;\n",
       "    }\n",
       "</style>\n",
       "<table border=\"1\" class=\"dataframe\">\n",
       "  <thead>\n",
       "    <tr style=\"text-align: right;\">\n",
       "      <th></th>\n",
       "      <th>first</th>\n",
       "      <th>last</th>\n",
       "      <th>email</th>\n",
       "    </tr>\n",
       "  </thead>\n",
       "  <tbody>\n",
       "    <tr>\n",
       "      <th>0</th>\n",
       "      <td>John</td>\n",
       "      <td>Abhrahm</td>\n",
       "      <td>john@gmail.com</td>\n",
       "    </tr>\n",
       "    <tr>\n",
       "      <th>1</th>\n",
       "      <td>Brown</td>\n",
       "      <td>Doe</td>\n",
       "      <td>doe@yahho.com</td>\n",
       "    </tr>\n",
       "    <tr>\n",
       "      <th>2</th>\n",
       "      <td>Harry</td>\n",
       "      <td>Peter</td>\n",
       "      <td>harry@redhat.com</td>\n",
       "    </tr>\n",
       "  </tbody>\n",
       "</table>\n",
       "</div>"
      ],
      "text/plain": [
       "   first     last             email\n",
       "0   John  Abhrahm    john@gmail.com\n",
       "1  Brown      Doe     doe@yahho.com\n",
       "2  Harry    Peter  harry@redhat.com"
      ]
     },
     "execution_count": 6,
     "metadata": {},
     "output_type": "execute_result"
    }
   ],
   "source": [
    "df"
   ]
  },
  {
   "cell_type": "markdown",
   "id": "f13771e7",
   "metadata": {},
   "source": [
    "### Lets see how to access information within a dataframe"
   ]
  },
  {
   "cell_type": "code",
   "execution_count": 7,
   "id": "b429aa70",
   "metadata": {},
   "outputs": [
    {
     "data": {
      "text/plain": [
       "0      john@gmail.com\n",
       "1       doe@yahho.com\n",
       "2    harry@redhat.com\n",
       "Name: email, dtype: object"
      ]
     },
     "execution_count": 7,
     "metadata": {},
     "output_type": "execute_result"
    }
   ],
   "source": [
    "# lets access values of single colimn\n",
    "# Method 1   -> preferred\n",
    "df['email']"
   ]
  },
  {
   "cell_type": "code",
   "execution_count": 8,
   "id": "b9044293",
   "metadata": {},
   "outputs": [
    {
     "data": {
      "text/plain": [
       "pandas.core.series.Series"
      ]
     },
     "execution_count": 8,
     "metadata": {},
     "output_type": "execute_result"
    }
   ],
   "source": [
    "type(df['email'])"
   ]
  },
  {
   "cell_type": "markdown",
   "id": "3bab3272",
   "metadata": {},
   "source": [
    "### What is a Series object:\n",
    "#### A series is just like a list of data, with lot more functionality than list, 1D array, or rows of data \n",
    "#### A dataframe is a container of multiple series objects"
   ]
  },
  {
   "cell_type": "code",
   "execution_count": 9,
   "id": "8813afaf",
   "metadata": {},
   "outputs": [
    {
     "data": {
      "text/plain": [
       "0      john@gmail.com\n",
       "1       doe@yahho.com\n",
       "2    harry@redhat.com\n",
       "Name: email, dtype: object"
      ]
     },
     "execution_count": 9,
     "metadata": {},
     "output_type": "execute_result"
    }
   ],
   "source": [
    "#Method 2\n",
    "df.email     "
   ]
  },
  {
   "cell_type": "markdown",
   "id": "7eaa9ea0",
   "metadata": {},
   "source": [
    "#### To access multiple columns"
   ]
  },
  {
   "cell_type": "code",
   "execution_count": 10,
   "id": "01fd960e",
   "metadata": {},
   "outputs": [
    {
     "data": {
      "text/html": [
       "<div>\n",
       "<style scoped>\n",
       "    .dataframe tbody tr th:only-of-type {\n",
       "        vertical-align: middle;\n",
       "    }\n",
       "\n",
       "    .dataframe tbody tr th {\n",
       "        vertical-align: top;\n",
       "    }\n",
       "\n",
       "    .dataframe thead th {\n",
       "        text-align: right;\n",
       "    }\n",
       "</style>\n",
       "<table border=\"1\" class=\"dataframe\">\n",
       "  <thead>\n",
       "    <tr style=\"text-align: right;\">\n",
       "      <th></th>\n",
       "      <th>last</th>\n",
       "      <th>email</th>\n",
       "    </tr>\n",
       "  </thead>\n",
       "  <tbody>\n",
       "    <tr>\n",
       "      <th>0</th>\n",
       "      <td>Abhrahm</td>\n",
       "      <td>john@gmail.com</td>\n",
       "    </tr>\n",
       "    <tr>\n",
       "      <th>1</th>\n",
       "      <td>Doe</td>\n",
       "      <td>doe@yahho.com</td>\n",
       "    </tr>\n",
       "    <tr>\n",
       "      <th>2</th>\n",
       "      <td>Peter</td>\n",
       "      <td>harry@redhat.com</td>\n",
       "    </tr>\n",
       "  </tbody>\n",
       "</table>\n",
       "</div>"
      ],
      "text/plain": [
       "      last             email\n",
       "0  Abhrahm    john@gmail.com\n",
       "1      Doe     doe@yahho.com\n",
       "2    Peter  harry@redhat.com"
      ]
     },
     "execution_count": 10,
     "metadata": {},
     "output_type": "execute_result"
    }
   ],
   "source": [
    "df[['last', 'email']]     #2 list brackets used to get multiple columns"
   ]
  },
  {
   "cell_type": "code",
   "execution_count": 11,
   "id": "192fcde9",
   "metadata": {},
   "outputs": [
    {
     "data": {
      "text/plain": [
       "Index(['first', 'last', 'email'], dtype='object')"
      ]
     },
     "execution_count": 11,
     "metadata": {},
     "output_type": "execute_result"
    }
   ],
   "source": [
    "#Access columns\n",
    "df.columns "
   ]
  },
  {
   "cell_type": "code",
   "execution_count": 12,
   "id": "16126260",
   "metadata": {},
   "outputs": [
    {
     "data": {
      "text/plain": [
       "first              John\n",
       "last            Abhrahm\n",
       "email    john@gmail.com\n",
       "Name: 0, dtype: object"
      ]
     },
     "execution_count": 12,
     "metadata": {},
     "output_type": "execute_result"
    }
   ],
   "source": [
    "# Access Rows -> \n",
    "# iloc -> access/searching rows with integer index location\n",
    "# loc -> searching by labels\n",
    "\n",
    "df.iloc[0]   #1st row, gives index as column names and then gives actual values of 1st row"
   ]
  },
  {
   "cell_type": "markdown",
   "id": "ccd6ac69",
   "metadata": {},
   "source": [
    "#### Access multiple rows"
   ]
  },
  {
   "cell_type": "code",
   "execution_count": 13,
   "id": "c4ce8f9f",
   "metadata": {},
   "outputs": [
    {
     "data": {
      "text/html": [
       "<div>\n",
       "<style scoped>\n",
       "    .dataframe tbody tr th:only-of-type {\n",
       "        vertical-align: middle;\n",
       "    }\n",
       "\n",
       "    .dataframe tbody tr th {\n",
       "        vertical-align: top;\n",
       "    }\n",
       "\n",
       "    .dataframe thead th {\n",
       "        text-align: right;\n",
       "    }\n",
       "</style>\n",
       "<table border=\"1\" class=\"dataframe\">\n",
       "  <thead>\n",
       "    <tr style=\"text-align: right;\">\n",
       "      <th></th>\n",
       "      <th>first</th>\n",
       "      <th>last</th>\n",
       "      <th>email</th>\n",
       "    </tr>\n",
       "  </thead>\n",
       "  <tbody>\n",
       "    <tr>\n",
       "      <th>0</th>\n",
       "      <td>John</td>\n",
       "      <td>Abhrahm</td>\n",
       "      <td>john@gmail.com</td>\n",
       "    </tr>\n",
       "    <tr>\n",
       "      <th>1</th>\n",
       "      <td>Brown</td>\n",
       "      <td>Doe</td>\n",
       "      <td>doe@yahho.com</td>\n",
       "    </tr>\n",
       "  </tbody>\n",
       "</table>\n",
       "</div>"
      ],
      "text/plain": [
       "   first     last           email\n",
       "0   John  Abhrahm  john@gmail.com\n",
       "1  Brown      Doe   doe@yahho.com"
      ]
     },
     "execution_count": 13,
     "metadata": {},
     "output_type": "execute_result"
    }
   ],
   "source": [
    "# We can access multiple rows by passing in lists of integers\n",
    "df.iloc[[0,1]]"
   ]
  },
  {
   "cell_type": "code",
   "execution_count": 14,
   "id": "2386381e",
   "metadata": {},
   "outputs": [
    {
     "data": {
      "text/plain": [
       "0    john@gmail.com\n",
       "1     doe@yahho.com\n",
       "Name: email, dtype: object"
      ]
     },
     "execution_count": 14,
     "metadata": {},
     "output_type": "execute_result"
    }
   ],
   "source": [
    "df.iloc[[0,1], 2]      # To get email address ie access 3rd column of the 1st & 2nd row"
   ]
  },
  {
   "cell_type": "code",
   "execution_count": 15,
   "id": "7f9dd693",
   "metadata": {},
   "outputs": [
    {
     "data": {
      "text/html": [
       "<div>\n",
       "<style scoped>\n",
       "    .dataframe tbody tr th:only-of-type {\n",
       "        vertical-align: middle;\n",
       "    }\n",
       "\n",
       "    .dataframe tbody tr th {\n",
       "        vertical-align: top;\n",
       "    }\n",
       "\n",
       "    .dataframe thead th {\n",
       "        text-align: right;\n",
       "    }\n",
       "</style>\n",
       "<table border=\"1\" class=\"dataframe\">\n",
       "  <thead>\n",
       "    <tr style=\"text-align: right;\">\n",
       "      <th></th>\n",
       "      <th>first</th>\n",
       "      <th>last</th>\n",
       "      <th>email</th>\n",
       "    </tr>\n",
       "  </thead>\n",
       "  <tbody>\n",
       "    <tr>\n",
       "      <th>0</th>\n",
       "      <td>John</td>\n",
       "      <td>Abhrahm</td>\n",
       "      <td>john@gmail.com</td>\n",
       "    </tr>\n",
       "    <tr>\n",
       "      <th>1</th>\n",
       "      <td>Brown</td>\n",
       "      <td>Doe</td>\n",
       "      <td>doe@yahho.com</td>\n",
       "    </tr>\n",
       "    <tr>\n",
       "      <th>2</th>\n",
       "      <td>Harry</td>\n",
       "      <td>Peter</td>\n",
       "      <td>harry@redhat.com</td>\n",
       "    </tr>\n",
       "  </tbody>\n",
       "</table>\n",
       "</div>"
      ],
      "text/plain": [
       "   first     last             email\n",
       "0   John  Abhrahm    john@gmail.com\n",
       "1  Brown      Doe     doe@yahho.com\n",
       "2  Harry    Peter  harry@redhat.com"
      ]
     },
     "execution_count": 15,
     "metadata": {},
     "output_type": "execute_result"
    }
   ],
   "source": [
    "df"
   ]
  },
  {
   "cell_type": "code",
   "execution_count": 16,
   "id": "0b9e8c62",
   "metadata": {},
   "outputs": [
    {
     "data": {
      "text/plain": [
       "first              John\n",
       "last            Abhrahm\n",
       "email    john@gmail.com\n",
       "Name: 0, dtype: object"
      ]
     },
     "execution_count": 16,
     "metadata": {},
     "output_type": "execute_result"
    }
   ],
   "source": [
    "#1st row\n",
    "df.loc[0]"
   ]
  },
  {
   "cell_type": "code",
   "execution_count": 17,
   "id": "18e44ca7",
   "metadata": {},
   "outputs": [
    {
     "data": {
      "text/html": [
       "<div>\n",
       "<style scoped>\n",
       "    .dataframe tbody tr th:only-of-type {\n",
       "        vertical-align: middle;\n",
       "    }\n",
       "\n",
       "    .dataframe tbody tr th {\n",
       "        vertical-align: top;\n",
       "    }\n",
       "\n",
       "    .dataframe thead th {\n",
       "        text-align: right;\n",
       "    }\n",
       "</style>\n",
       "<table border=\"1\" class=\"dataframe\">\n",
       "  <thead>\n",
       "    <tr style=\"text-align: right;\">\n",
       "      <th></th>\n",
       "      <th>first</th>\n",
       "      <th>last</th>\n",
       "      <th>email</th>\n",
       "    </tr>\n",
       "  </thead>\n",
       "  <tbody>\n",
       "    <tr>\n",
       "      <th>0</th>\n",
       "      <td>John</td>\n",
       "      <td>Abhrahm</td>\n",
       "      <td>john@gmail.com</td>\n",
       "    </tr>\n",
       "    <tr>\n",
       "      <th>1</th>\n",
       "      <td>Brown</td>\n",
       "      <td>Doe</td>\n",
       "      <td>doe@yahho.com</td>\n",
       "    </tr>\n",
       "  </tbody>\n",
       "</table>\n",
       "</div>"
      ],
      "text/plain": [
       "   first     last           email\n",
       "0   John  Abhrahm  john@gmail.com\n",
       "1  Brown      Doe   doe@yahho.com"
      ]
     },
     "execution_count": 17,
     "metadata": {},
     "output_type": "execute_result"
    }
   ],
   "source": [
    "# 1 & 2 row\n",
    "df.loc[[0,1]]"
   ]
  },
  {
   "cell_type": "code",
   "execution_count": 18,
   "id": "42acd6c0",
   "metadata": {},
   "outputs": [
    {
     "data": {
      "text/html": [
       "<div>\n",
       "<style scoped>\n",
       "    .dataframe tbody tr th:only-of-type {\n",
       "        vertical-align: middle;\n",
       "    }\n",
       "\n",
       "    .dataframe tbody tr th {\n",
       "        vertical-align: top;\n",
       "    }\n",
       "\n",
       "    .dataframe thead th {\n",
       "        text-align: right;\n",
       "    }\n",
       "</style>\n",
       "<table border=\"1\" class=\"dataframe\">\n",
       "  <thead>\n",
       "    <tr style=\"text-align: right;\">\n",
       "      <th></th>\n",
       "      <th>email</th>\n",
       "    </tr>\n",
       "  </thead>\n",
       "  <tbody>\n",
       "    <tr>\n",
       "      <th>0</th>\n",
       "      <td>john@gmail.com</td>\n",
       "    </tr>\n",
       "    <tr>\n",
       "      <th>1</th>\n",
       "      <td>doe@yahho.com</td>\n",
       "    </tr>\n",
       "  </tbody>\n",
       "</table>\n",
       "</div>"
      ],
      "text/plain": [
       "            email\n",
       "0  john@gmail.com\n",
       "1   doe@yahho.com"
      ]
     },
     "execution_count": 18,
     "metadata": {},
     "output_type": "execute_result"
    }
   ],
   "source": [
    "# Pass 2nd value to access 3rd column\n",
    "df.loc[[0,1], ['email']]"
   ]
  },
  {
   "cell_type": "code",
   "execution_count": 19,
   "id": "729eacd5",
   "metadata": {},
   "outputs": [
    {
     "data": {
      "text/html": [
       "<div>\n",
       "<style scoped>\n",
       "    .dataframe tbody tr th:only-of-type {\n",
       "        vertical-align: middle;\n",
       "    }\n",
       "\n",
       "    .dataframe tbody tr th {\n",
       "        vertical-align: top;\n",
       "    }\n",
       "\n",
       "    .dataframe thead th {\n",
       "        text-align: right;\n",
       "    }\n",
       "</style>\n",
       "<table border=\"1\" class=\"dataframe\">\n",
       "  <thead>\n",
       "    <tr style=\"text-align: right;\">\n",
       "      <th></th>\n",
       "      <th>email</th>\n",
       "      <th>last</th>\n",
       "    </tr>\n",
       "  </thead>\n",
       "  <tbody>\n",
       "    <tr>\n",
       "      <th>0</th>\n",
       "      <td>john@gmail.com</td>\n",
       "      <td>Abhrahm</td>\n",
       "    </tr>\n",
       "    <tr>\n",
       "      <th>1</th>\n",
       "      <td>doe@yahho.com</td>\n",
       "      <td>Doe</td>\n",
       "    </tr>\n",
       "  </tbody>\n",
       "</table>\n",
       "</div>"
      ],
      "text/plain": [
       "            email     last\n",
       "0  john@gmail.com  Abhrahm\n",
       "1   doe@yahho.com      Doe"
      ]
     },
     "execution_count": 19,
     "metadata": {},
     "output_type": "execute_result"
    }
   ],
   "source": [
    "df.loc[[0,1], ['email', 'last']]"
   ]
  },
  {
   "cell_type": "code",
   "execution_count": null,
   "id": "20c30366",
   "metadata": {},
   "outputs": [],
   "source": []
  }
 ],
 "metadata": {
  "kernelspec": {
   "display_name": "Python 3 (ipykernel)",
   "language": "python",
   "name": "python3"
  },
  "language_info": {
   "codemirror_mode": {
    "name": "ipython",
    "version": 3
   },
   "file_extension": ".py",
   "mimetype": "text/x-python",
   "name": "python",
   "nbconvert_exporter": "python",
   "pygments_lexer": "ipython3",
   "version": "3.9.12"
  }
 },
 "nbformat": 4,
 "nbformat_minor": 5
}
